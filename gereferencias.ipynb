{
 "cells": [
  {
   "cell_type": "code",
   "execution_count": 1,
   "id": "7bbf4654-ead6-489d-b658-a8c03b4be37e",
   "metadata": {},
   "outputs": [],
   "source": [
    "import folium\n",
    "from geopy.distance import geodesic\n",
    "from geopy.geocoders import Nominatim\n",
    "from folium.plugins import HeatMap"
   ]
  },
  {
   "cell_type": "code",
   "execution_count": 2,
   "id": "033eac60-d000-4269-b4dc-9d4a201e25a7",
   "metadata": {},
   "outputs": [],
   "source": [
    "app = Nominatim(user_agent=\"tycgis\")"
   ]
  },
  {
   "cell_type": "code",
   "execution_count": null,
   "id": "75e35867-e1a9-4a21-86e4-e2965c006363",
   "metadata": {},
   "outputs": [],
   "source": []
  },
  {
   "cell_type": "code",
   "execution_count": 3,
   "id": "7721baf5-ff49-4bb6-a59f-cb7e5f61f551",
   "metadata": {},
   "outputs": [],
   "source": [
    "location = app.reverse((-40.98, -73.2575))"
   ]
  },
  {
   "cell_type": "code",
   "execution_count": 4,
   "id": "ad12474c-f0d1-4622-887c-fbba10d845ac",
   "metadata": {},
   "outputs": [
    {
     "data": {
      "text/plain": [
       "Location(Coihueco, Purranque, Provincia de Osorno, Región de Los Lagos, Chile, (-40.972446, -73.2711267, 0.0))"
      ]
     },
     "execution_count": 4,
     "metadata": {},
     "output_type": "execute_result"
    }
   ],
   "source": [
    "location"
   ]
  },
  {
   "cell_type": "code",
   "execution_count": 5,
   "id": "4237a91b-0621-473b-b9ea-f720c8e0cd72",
   "metadata": {},
   "outputs": [],
   "source": [
    "location1 = app.reverse((-40.662,-73.1863055555555))"
   ]
  },
  {
   "cell_type": "code",
   "execution_count": 6,
   "id": "48afda52-0489-469d-aa64-74e964bd978e",
   "metadata": {},
   "outputs": [
    {
     "data": {
      "text/plain": [
       "Location(Fundo Sagllue, Río Negro, Provincia de Osorno, Región de Los Lagos, Chile, (-40.66201128999899, -73.18630937348746, 0.0))"
      ]
     },
     "execution_count": 6,
     "metadata": {},
     "output_type": "execute_result"
    }
   ],
   "source": [
    "location1"
   ]
  },
  {
   "cell_type": "code",
   "execution_count": 3,
   "id": "c800ee3b-5abf-4d8d-a3ce-89e701e26500",
   "metadata": {},
   "outputs": [],
   "source": [
    "import pandas as pd"
   ]
  },
  {
   "cell_type": "code",
   "execution_count": 4,
   "id": "6f80ad87-78b1-4834-9a45-94e63bca6781",
   "metadata": {},
   "outputs": [],
   "source": [
    "df = pd.read_excel('georeferencias.xlsx')"
   ]
  },
  {
   "cell_type": "code",
   "execution_count": 20,
   "id": "9822e915-27a0-46a3-ac04-846edc1d0319",
   "metadata": {},
   "outputs": [],
   "source": []
  },
  {
   "cell_type": "code",
   "execution_count": 9,
   "id": "88f1b0d8-7803-44c2-be9a-020d027206a7",
   "metadata": {},
   "outputs": [],
   "source": [
    "m = folium.Map(location = [-40.5740,-73.1322], tiles ='OpenStreetMap',        \n",
    "    zoom_start=11)\n",
    "# for i, row in df.iterrows():\n",
    "#     lat = df.at[i, 'Latitud']\n",
    "#     lng = df.at[i, 'Longitud']\n",
    "#     popup = 'Nombre Sala : ' + str(df.at[i, 'Nombre Sala'])\n",
    "#     folium.Marker(location = [lat, lng], popup= popup, icon = folium.Icon(color='blue')).add_to(m)\n",
    "\n",
    "\n",
    "\n",
    "\n",
    "# Plot it on the map\n",
    "heat_data = df[['Latitud','Longitud','Producción anual']]\n",
    "HeatMap(heat_data,).add_to(m)\n",
    "# m.add_child(HeatMap(heat_data))\n",
    "m.save('FRNSW_Locations.html')"
   ]
  },
  {
   "cell_type": "code",
   "execution_count": 13,
   "id": "7ab04fc0-633e-41ae-b57e-cf8c134637c1",
   "metadata": {},
   "outputs": [],
   "source": [
    "import folium\n",
    "from branca.element import Template, MacroElement\n",
    "import branca\n",
    "# Función para crear una leyenda\n",
    "\n",
    "\n",
    "# Creación del mapa\n",
    "m = folium.Map(location=[-40.5740, -73.1322], tiles='OpenStreetMap', zoom_start=11)\n",
    "\n",
    "# ... Aquí tu código para agregar marcadores y el HeatMap ...\n",
    " \n",
    "for i, row in df.iterrows():\n",
    "    lat = df.at[i, 'Latitud']\n",
    "    lng = df.at[i, 'Longitud']\n",
    "    link_gm = f'<a href = \"https://www.google.com/maps?q={str(lat)},{str(lng)}&hl=es-PY&gl=py&shorturl=1\"> Link </a>'\n",
    "    popup = 'Nombre Sala : ' + str(df.at[i, 'Nombre Sala'])+'\\n Lat:'+str(lat) +'\\n Lng:'+str(lng) +'\\n GGL:'+ link_gm\n",
    "    folium.Marker(location = [lat, lng], popup= popup, icon = folium.Icon(color='blue')).add_to(m)\n",
    "\n",
    "heat_data = df[['Latitud','Longitud','Producción anual']]\n",
    "HeatMap(heat_data, gradient={.4: 'blue', .65: 'lime', .8:'yellow',1: 'red'}).add_to(m)\n",
    "# Agregar la leyenda al mapa\n",
    "colormap = branca.colormap.linear.YlOrRd_09.scale(0, 8500)\n",
    "colormap = colormap.to_step(index=[0, 1000, 3000, 5000, 8500])\n",
    "colormap.caption = 'Litros Anuales Producidos por Sala'\n",
    "colormap.add_to(m)\n",
    "\n",
    "\n",
    "# Guardar el mapa\n",
    "m.save('FRNSW_Locations3.html')"
   ]
  }
 ],
 "metadata": {
  "kernelspec": {
   "display_name": "Python 3 (ipykernel)",
   "language": "python",
   "name": "python3"
  },
  "language_info": {
   "codemirror_mode": {
    "name": "ipython",
    "version": 3
   },
   "file_extension": ".py",
   "mimetype": "text/x-python",
   "name": "python",
   "nbconvert_exporter": "python",
   "pygments_lexer": "ipython3",
   "version": "3.11.7"
  }
 },
 "nbformat": 4,
 "nbformat_minor": 5
}
